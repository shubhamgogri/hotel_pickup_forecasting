{
 "cells": [
  {
   "cell_type": "code",
   "execution_count": 1,
   "metadata": {},
   "outputs": [],
   "source": [
    "import os"
   ]
  },
  {
   "cell_type": "code",
   "execution_count": 2,
   "metadata": {},
   "outputs": [],
   "source": [
    "os.chdir(\"../\")"
   ]
  },
  {
   "cell_type": "code",
   "execution_count": 7,
   "metadata": {},
   "outputs": [],
   "source": [
    "import pandas as pd"
   ]
  },
  {
   "cell_type": "code",
   "execution_count": 24,
   "metadata": {},
   "outputs": [
    {
     "name": "stdout",
     "output_type": "stream",
     "text": [
      "[2024-06-13 02:28:42,727: INFO: common: yaml file: config\\config.yaml loaded successfully]\n",
      "[2024-06-13 02:28:42,731: INFO: common: yaml file: schema.yaml loaded successfully]\n",
      "dict_keys(['3D_MA_comp_med_rate', '3D_MA_log_vi_comp_median', '3D_MA_rate', '7D_MA_comp_med_rate', '7D_MA_log_vi_comp_median', '7D_MA_rate', 'Dynamic Rooms (Calculated)', 'cancel_date', 'competitor_max_rate', 'competitor_median_rate', 'competitor_median_rate_-1', 'competitor_median_rate_-2', 'competitor_median_rate_-3', 'competitor_median_rate_-4', 'competitor_median_rate_-5', 'competitor_median_rate_-6', 'competitor_median_rate_-7', 'competitor_min_rate', 'cumulative_cancellations', 'cumulative_reservations', 'cumulative_reservations_-1', 'cumulative_reservations_-28', 'cumulative_reservations_-3', 'cumulative_reservations_-7', 'daily_cancellations', 'daily_reservation', 'dynamic_room_revenue', 'dynamic_rooms', 'dynamic_rooms_diff', 'final_week', 'lead_in', 'log_competitor_rate', 'log_pickup_-3', 'log_pickup_-7', 'log_rate', 'log_vi_comp_median', 'log_vi_comp_median_-1', 'log_vi_comp_median_-2', 'log_vi_comp_median_-3', 'log_vi_comp_median_-4', 'log_vi_comp_median_-5', 'log_vi_comp_median_-6', 'log_vi_comp_median_-7', 'occupancy change', 'occupancy change_-3', 'pickup_-3', 'pickup_-7', 'rate', 'rate_-1', 'rate_-2', 'rate_-3', 'rate_-4', 'rate_-5', 'rate_-6', 'rate_-7', 'report_date_day_of_month', 'report_date_day_of_week', 'report_date_month', 'report_date_year', 'stay_date', 'stay_date_day_of_month', 'stay_date_day_of_week', 'stay_date_month', 'stay_date_week_of_year', 'stay_date_year', 'total_room_revenue', 'total_rooms', 'total_rooms_-3', 'vi_comp_median', 'vi_comp_min', 'pickup_3'])\n"
     ]
    }
   ],
   "source": [
    "from hotel_pickup_forecasting.utils.common import  read_yaml\n",
    "from hotel_pickup_forecasting.constants import *\n",
    "\n",
    "config = read_yaml(CONFIG_FILE_PATH)\n",
    "schema = read_yaml(SCHEMA_FILE_PATH)\n",
    "\n",
    "all_schema = schema.COLUMNS.keys()\n",
    "print(all_schema)\n",
    "# df_X = df[all_schema]\n",
    "# df_X"
   ]
  },
  {
   "cell_type": "code",
   "execution_count": 36,
   "metadata": {},
   "outputs": [
    {
     "data": {
      "text/html": [
       "<div>\n",
       "<style scoped>\n",
       "    .dataframe tbody tr th:only-of-type {\n",
       "        vertical-align: middle;\n",
       "    }\n",
       "\n",
       "    .dataframe tbody tr th {\n",
       "        vertical-align: top;\n",
       "    }\n",
       "\n",
       "    .dataframe thead th {\n",
       "        text-align: right;\n",
       "    }\n",
       "</style>\n",
       "<table border=\"1\" class=\"dataframe\">\n",
       "  <thead>\n",
       "    <tr style=\"text-align: right;\">\n",
       "      <th></th>\n",
       "      <th>3D_MA_comp_med_rate</th>\n",
       "      <th>3D_MA_log_vi_comp_median</th>\n",
       "      <th>3D_MA_rate</th>\n",
       "      <th>7D_MA_comp_med_rate</th>\n",
       "      <th>7D_MA_log_vi_comp_median</th>\n",
       "      <th>7D_MA_rate</th>\n",
       "      <th>Dynamic Rooms (Calculated)</th>\n",
       "      <th>cancel_date</th>\n",
       "      <th>competitor_max_rate</th>\n",
       "      <th>competitor_median_rate</th>\n",
       "      <th>...</th>\n",
       "      <th>stay_date_day_of_week</th>\n",
       "      <th>stay_date_month</th>\n",
       "      <th>stay_date_week_of_year</th>\n",
       "      <th>stay_date_year</th>\n",
       "      <th>total_room_revenue</th>\n",
       "      <th>total_rooms</th>\n",
       "      <th>total_rooms_-3</th>\n",
       "      <th>vi_comp_median</th>\n",
       "      <th>vi_comp_min</th>\n",
       "      <th>pickup_3</th>\n",
       "    </tr>\n",
       "    <tr>\n",
       "      <th>report_date</th>\n",
       "      <th></th>\n",
       "      <th></th>\n",
       "      <th></th>\n",
       "      <th></th>\n",
       "      <th></th>\n",
       "      <th></th>\n",
       "      <th></th>\n",
       "      <th></th>\n",
       "      <th></th>\n",
       "      <th></th>\n",
       "      <th></th>\n",
       "      <th></th>\n",
       "      <th></th>\n",
       "      <th></th>\n",
       "      <th></th>\n",
       "      <th></th>\n",
       "      <th></th>\n",
       "      <th></th>\n",
       "      <th></th>\n",
       "      <th></th>\n",
       "      <th></th>\n",
       "    </tr>\n",
       "  </thead>\n",
       "  <tbody>\n",
       "    <tr>\n",
       "      <th>2022-01-02</th>\n",
       "      <td>127.000000</td>\n",
       "      <td>0.015625</td>\n",
       "      <td>129.000000</td>\n",
       "      <td>127.000000</td>\n",
       "      <td>0.015625</td>\n",
       "      <td>129.000000</td>\n",
       "      <td>13.0</td>\n",
       "      <td>2022-01-02</td>\n",
       "      <td>299.0</td>\n",
       "      <td>127.0</td>\n",
       "      <td>...</td>\n",
       "      <td>3</td>\n",
       "      <td>1</td>\n",
       "      <td>1</td>\n",
       "      <td>2022</td>\n",
       "      <td>1641.98</td>\n",
       "      <td>15.0</td>\n",
       "      <td>NaN</td>\n",
       "      <td>1.015748</td>\n",
       "      <td>1.675325</td>\n",
       "      <td>8.0</td>\n",
       "    </tr>\n",
       "    <tr>\n",
       "      <th>2022-01-03</th>\n",
       "      <td>127.500000</td>\n",
       "      <td>0.011704</td>\n",
       "      <td>129.000000</td>\n",
       "      <td>127.500000</td>\n",
       "      <td>0.011704</td>\n",
       "      <td>129.000000</td>\n",
       "      <td>17.0</td>\n",
       "      <td>NaT</td>\n",
       "      <td>299.0</td>\n",
       "      <td>128.0</td>\n",
       "      <td>...</td>\n",
       "      <td>3</td>\n",
       "      <td>1</td>\n",
       "      <td>1</td>\n",
       "      <td>2022</td>\n",
       "      <td>1675.32</td>\n",
       "      <td>16.0</td>\n",
       "      <td>NaN</td>\n",
       "      <td>1.007812</td>\n",
       "      <td>1.675325</td>\n",
       "      <td>4.0</td>\n",
       "    </tr>\n",
       "    <tr>\n",
       "      <th>2022-01-04</th>\n",
       "      <td>128.833333</td>\n",
       "      <td>-0.025492</td>\n",
       "      <td>125.666667</td>\n",
       "      <td>128.833333</td>\n",
       "      <td>-0.025492</td>\n",
       "      <td>125.666667</td>\n",
       "      <td>16.0</td>\n",
       "      <td>2022-01-04</td>\n",
       "      <td>299.0</td>\n",
       "      <td>131.5</td>\n",
       "      <td>...</td>\n",
       "      <td>3</td>\n",
       "      <td>1</td>\n",
       "      <td>1</td>\n",
       "      <td>2022</td>\n",
       "      <td>1713.56</td>\n",
       "      <td>13.0</td>\n",
       "      <td>NaN</td>\n",
       "      <td>0.904943</td>\n",
       "      <td>1.586667</td>\n",
       "      <td>3.0</td>\n",
       "    </tr>\n",
       "    <tr>\n",
       "      <th>2022-01-05</th>\n",
       "      <td>131.500000</td>\n",
       "      <td>-0.045855</td>\n",
       "      <td>125.666667</td>\n",
       "      <td>130.375000</td>\n",
       "      <td>-0.030485</td>\n",
       "      <td>126.500000</td>\n",
       "      <td>16.0</td>\n",
       "      <td>2022-01-05</td>\n",
       "      <td>299.0</td>\n",
       "      <td>135.0</td>\n",
       "      <td>...</td>\n",
       "      <td>3</td>\n",
       "      <td>1</td>\n",
       "      <td>1</td>\n",
       "      <td>2022</td>\n",
       "      <td>1258.54</td>\n",
       "      <td>14.0</td>\n",
       "      <td>15.0</td>\n",
       "      <td>0.955556</td>\n",
       "      <td>1.954545</td>\n",
       "      <td>0.0</td>\n",
       "    </tr>\n",
       "    <tr>\n",
       "      <th>2022-01-02</th>\n",
       "      <td>126.000000</td>\n",
       "      <td>-0.057158</td>\n",
       "      <td>119.000000</td>\n",
       "      <td>126.000000</td>\n",
       "      <td>-0.057158</td>\n",
       "      <td>119.000000</td>\n",
       "      <td>16.0</td>\n",
       "      <td>2022-01-02</td>\n",
       "      <td>299.0</td>\n",
       "      <td>126.0</td>\n",
       "      <td>...</td>\n",
       "      <td>4</td>\n",
       "      <td>1</td>\n",
       "      <td>1</td>\n",
       "      <td>2022</td>\n",
       "      <td>2141.75</td>\n",
       "      <td>19.0</td>\n",
       "      <td>NaN</td>\n",
       "      <td>0.944444</td>\n",
       "      <td>1.416667</td>\n",
       "      <td>6.0</td>\n",
       "    </tr>\n",
       "  </tbody>\n",
       "</table>\n",
       "<p>5 rows × 71 columns</p>\n",
       "</div>"
      ],
      "text/plain": [
       "             3D_MA_comp_med_rate  3D_MA_log_vi_comp_median  3D_MA_rate  \\\n",
       "report_date                                                              \n",
       "2022-01-02            127.000000                  0.015625  129.000000   \n",
       "2022-01-03            127.500000                  0.011704  129.000000   \n",
       "2022-01-04            128.833333                 -0.025492  125.666667   \n",
       "2022-01-05            131.500000                 -0.045855  125.666667   \n",
       "2022-01-02            126.000000                 -0.057158  119.000000   \n",
       "\n",
       "             7D_MA_comp_med_rate  7D_MA_log_vi_comp_median  7D_MA_rate  \\\n",
       "report_date                                                              \n",
       "2022-01-02            127.000000                  0.015625  129.000000   \n",
       "2022-01-03            127.500000                  0.011704  129.000000   \n",
       "2022-01-04            128.833333                 -0.025492  125.666667   \n",
       "2022-01-05            130.375000                 -0.030485  126.500000   \n",
       "2022-01-02            126.000000                 -0.057158  119.000000   \n",
       "\n",
       "             Dynamic Rooms (Calculated) cancel_date  competitor_max_rate  \\\n",
       "report_date                                                                \n",
       "2022-01-02                         13.0  2022-01-02                299.0   \n",
       "2022-01-03                         17.0         NaT                299.0   \n",
       "2022-01-04                         16.0  2022-01-04                299.0   \n",
       "2022-01-05                         16.0  2022-01-05                299.0   \n",
       "2022-01-02                         16.0  2022-01-02                299.0   \n",
       "\n",
       "             competitor_median_rate  ...  stay_date_day_of_week  \\\n",
       "report_date                          ...                          \n",
       "2022-01-02                    127.0  ...                      3   \n",
       "2022-01-03                    128.0  ...                      3   \n",
       "2022-01-04                    131.5  ...                      3   \n",
       "2022-01-05                    135.0  ...                      3   \n",
       "2022-01-02                    126.0  ...                      4   \n",
       "\n",
       "             stay_date_month  stay_date_week_of_year  stay_date_year  \\\n",
       "report_date                                                            \n",
       "2022-01-02                 1                       1            2022   \n",
       "2022-01-03                 1                       1            2022   \n",
       "2022-01-04                 1                       1            2022   \n",
       "2022-01-05                 1                       1            2022   \n",
       "2022-01-02                 1                       1            2022   \n",
       "\n",
       "             total_room_revenue  total_rooms  total_rooms_-3  vi_comp_median  \\\n",
       "report_date                                                                    \n",
       "2022-01-02              1641.98         15.0             NaN        1.015748   \n",
       "2022-01-03              1675.32         16.0             NaN        1.007812   \n",
       "2022-01-04              1713.56         13.0             NaN        0.904943   \n",
       "2022-01-05              1258.54         14.0            15.0        0.955556   \n",
       "2022-01-02              2141.75         19.0             NaN        0.944444   \n",
       "\n",
       "             vi_comp_min  pickup_3  \n",
       "report_date                         \n",
       "2022-01-02      1.675325       8.0  \n",
       "2022-01-03      1.675325       4.0  \n",
       "2022-01-04      1.586667       3.0  \n",
       "2022-01-05      1.954545       0.0  \n",
       "2022-01-02      1.416667       6.0  \n",
       "\n",
       "[5 rows x 71 columns]"
      ]
     },
     "execution_count": 36,
     "metadata": {},
     "output_type": "execute_result"
    }
   ],
   "source": [
    "\n",
    "target = schema.TARGET_COLUMN.name\n",
    "df = pd.read_csv(\"artifacts\\data_ingestion\\dynamic_reservations_feat.csv\", index_col= ['report_date'])\n",
    "df.index = pd.to_datetime(df.index)\n",
    "df['stay_date'] = pd.to_datetime(df['stay_date'])\n",
    "df['cancel_date'] = pd.to_datetime(df['cancel_date'])\n",
    "df = df[all_schema] \n",
    "df = df[df[target].isna()==False]"
   ]
  },
  {
   "cell_type": "code",
   "execution_count": 37,
   "metadata": {},
   "outputs": [
    {
     "data": {
      "text/plain": [
       "Index(['3D_MA_comp_med_rate', '3D_MA_log_vi_comp_median', '3D_MA_rate',\n",
       "       '7D_MA_comp_med_rate', '7D_MA_log_vi_comp_median', '7D_MA_rate',\n",
       "       'Dynamic Rooms (Calculated)', 'cancel_date', 'competitor_max_rate',\n",
       "       'competitor_median_rate', 'competitor_median_rate_-1',\n",
       "       'competitor_median_rate_-2', 'competitor_median_rate_-3',\n",
       "       'competitor_median_rate_-4', 'competitor_median_rate_-5',\n",
       "       'competitor_median_rate_-6', 'competitor_median_rate_-7',\n",
       "       'competitor_min_rate', 'cumulative_cancellations',\n",
       "       'cumulative_reservations', 'cumulative_reservations_-1',\n",
       "       'cumulative_reservations_-28', 'cumulative_reservations_-3',\n",
       "       'cumulative_reservations_-7', 'daily_cancellations',\n",
       "       'daily_reservation', 'dynamic_room_revenue', 'dynamic_rooms',\n",
       "       'dynamic_rooms_diff', 'final_week', 'lead_in', 'log_competitor_rate',\n",
       "       'log_pickup_-3', 'log_pickup_-7', 'log_rate', 'log_vi_comp_median',\n",
       "       'log_vi_comp_median_-1', 'log_vi_comp_median_-2',\n",
       "       'log_vi_comp_median_-3', 'log_vi_comp_median_-4',\n",
       "       'log_vi_comp_median_-5', 'log_vi_comp_median_-6',\n",
       "       'log_vi_comp_median_-7', 'occupancy change', 'occupancy change_-3',\n",
       "       'pickup_-3', 'pickup_-7', 'rate', 'rate_-1', 'rate_-2', 'rate_-3',\n",
       "       'rate_-4', 'rate_-5', 'rate_-6', 'rate_-7', 'report_date_day_of_month',\n",
       "       'report_date_day_of_week', 'report_date_month', 'report_date_year',\n",
       "       'stay_date', 'stay_date_day_of_month', 'stay_date_day_of_week',\n",
       "       'stay_date_month', 'stay_date_week_of_year', 'stay_date_year',\n",
       "       'total_room_revenue', 'total_rooms', 'total_rooms_-3', 'vi_comp_median',\n",
       "       'vi_comp_min', 'pickup_3'],\n",
       "      dtype='object')"
      ]
     },
     "execution_count": 37,
     "metadata": {},
     "output_type": "execute_result"
    }
   ],
   "source": [
    "df.columns"
   ]
  },
  {
   "cell_type": "code",
   "execution_count": 38,
   "metadata": {},
   "outputs": [
    {
     "data": {
      "text/plain": [
       "0"
      ]
     },
     "execution_count": 38,
     "metadata": {},
     "output_type": "execute_result"
    }
   ],
   "source": [
    "len(df[df[target].isna() == True])"
   ]
  },
  {
   "cell_type": "code",
   "execution_count": 99,
   "metadata": {},
   "outputs": [],
   "source": [
    "from dataclasses import dataclass\n",
    "from pathlib import Path\n",
    "\n",
    "@dataclass(frozen=True)\n",
    "class DataTransformationConfig:\n",
    "    root_dir: Path\n",
    "    data_path: Path\n",
    "    all_schema: list\n",
    "    target: str\n",
    "    cutoff_date: str\n",
    "    "
   ]
  },
  {
   "cell_type": "code",
   "execution_count": 100,
   "metadata": {},
   "outputs": [],
   "source": [
    "from hotel_pickup_forecasting.constants import *\n",
    "from hotel_pickup_forecasting.utils.common import read_yaml, create_directories"
   ]
  },
  {
   "cell_type": "code",
   "execution_count": 101,
   "metadata": {},
   "outputs": [],
   "source": [
    "class ConfigurationManager:\n",
    "    def __init__(\n",
    "        self,\n",
    "        config_filepath = CONFIG_FILE_PATH,\n",
    "        params_filepath = PARAMS_FILE_PATH,\n",
    "        schema_filepath = SCHEMA_FILE_PATH):\n",
    "\n",
    "        self.config = read_yaml(config_filepath)\n",
    "        self.params = read_yaml(params_filepath)\n",
    "        self.schema = read_yaml(schema_filepath)\n",
    "\n",
    "        create_directories([self.config.artifacts_root])\n",
    "    \n",
    "    \n",
    "    def get_data_transformation_config(self) -> DataTransformationConfig:\n",
    "        config = self.config.data_transformation\n",
    "        schema = self.schema\n",
    "\n",
    "        create_directories([config.root_dir])\n",
    "\n",
    "        data_transformation_config = DataTransformationConfig(\n",
    "            root_dir=config.root_dir,\n",
    "            data_path=config.data_path,\n",
    "            all_schema = schema.COLUMNS.keys(), \n",
    "            target = config.target ,\n",
    "            cutoff_date = config.cutoff_date\n",
    "        )\n",
    "        return data_transformation_config\n"
   ]
  },
  {
   "cell_type": "code",
   "execution_count": 102,
   "metadata": {},
   "outputs": [],
   "source": [
    "import os\n",
    "from hotel_pickup_forecasting import logger\n",
    "import pandas as pd"
   ]
  },
  {
   "cell_type": "code",
   "execution_count": 103,
   "metadata": {},
   "outputs": [
    {
     "data": {
      "text/plain": [
       "dtype('<M8[ns]')"
      ]
     },
     "execution_count": 103,
     "metadata": {},
     "output_type": "execute_result"
    }
   ],
   "source": [
    "import numpy as np \n",
    "np.dtype( df['stay_date'])"
   ]
  },
  {
   "cell_type": "code",
   "execution_count": 104,
   "metadata": {},
   "outputs": [],
   "source": [
    "from ensure import ensure_annotations\n",
    "@ensure_annotations\n",
    "def date_to_numeric(s: pd.Series) -> pd.Series:\n",
    "    return pd.to_numeric(s, downcast='float')\n",
    "\n",
    "@ensure_annotations\n",
    "def number_to_date(s: pd.Series) -> pd.Series:\n",
    "    return pd.to_datetime(s)\n"
   ]
  },
  {
   "cell_type": "code",
   "execution_count": 105,
   "metadata": {},
   "outputs": [
    {
     "data": {
      "text/plain": [
       "report_date\n",
       "2022-01-02   2022-01-05\n",
       "2022-01-03   2022-01-05\n",
       "2022-01-04   2022-01-05\n",
       "2022-01-05   2022-01-05\n",
       "2022-01-02   2022-01-06\n",
       "                ...    \n",
       "2024-03-27   2024-03-31\n",
       "2024-03-28   2024-03-31\n",
       "2024-03-29   2024-03-31\n",
       "2024-03-30   2024-03-31\n",
       "2024-03-31   2024-03-31\n",
       "Name: stay_date, Length: 168966, dtype: datetime64[ns]"
      ]
     },
     "execution_count": 105,
     "metadata": {},
     "output_type": "execute_result"
    }
   ],
   "source": [
    "df['stay_date']"
   ]
  },
  {
   "cell_type": "code",
   "execution_count": 106,
   "metadata": {},
   "outputs": [
    {
     "data": {
      "text/plain": [
       "report_date\n",
       "2022-01-02   2022-01-02\n",
       "2022-01-03          NaT\n",
       "2022-01-04   2022-01-04\n",
       "2022-01-05   2022-01-05\n",
       "2022-01-02   2022-01-02\n",
       "                ...    \n",
       "2024-03-27          NaT\n",
       "2024-03-28          NaT\n",
       "2024-03-29          NaT\n",
       "2024-03-30          NaT\n",
       "2024-03-31          NaT\n",
       "Name: cancel_date, Length: 168966, dtype: datetime64[ns]"
      ]
     },
     "execution_count": 106,
     "metadata": {},
     "output_type": "execute_result"
    }
   ],
   "source": [
    "number_to_date(date_to_numeric(df['cancel_date']))"
   ]
  },
  {
   "cell_type": "code",
   "execution_count": 112,
   "metadata": {},
   "outputs": [],
   "source": [
    "from hotel_pickup_forecasting.utils.common import *\n",
    "\n",
    "class DataTransformation: \n",
    "    def __init__(self, config: DataTransformationConfig):\n",
    "        self.config = config\n",
    "\n",
    "    def initiate_transformation(self):\n",
    "\n",
    "        config = self.config\n",
    "        \n",
    "        # Cleaning the dataset i.e. necessary columns featuring relevant columns \n",
    "        df = pd.read_csv(self.config.data_path, index_col= 'report_date')\n",
    "        df.index = pd.to_datetime(df.index)\n",
    "\n",
    "        logger.info(\"Converting Stay_date and cancel_date to numerical values\")\n",
    "\n",
    "        df['stay_date'] = date_to_numeric(pd.to_datetime(df['stay_date']))\n",
    "        df['cancel_date'] = date_to_numeric(pd.to_datetime(df['cancel_date']))\n",
    "\n",
    "        df = df[config.all_schema] \n",
    "        logger.info(\"Added data with only relevant features\")\n",
    "        df = df[df[config.target].isna()==False]\n",
    "        logger.info(\"checked for any null values in target variable and neglected them.\")\n",
    "        cutt_off_date = config.cutoff_date\n",
    "\n",
    "        train = df.loc[df.index < cutt_off_date]\n",
    "        test = df.loc[df.index >= cutt_off_date]\n",
    "\n",
    "        train.to_csv(os.path.join(config.root_dir, \"train.csv\"), index= False)\n",
    "        test.to_csv(os.path.join(config.root_dir, \"test.csv\"), index= False)\n",
    "\n",
    "        logger.info(f\"Sucessful train and test split on cut off date as {cutt_off_date}\")\n",
    "        logger.info(f\"shape of training set is {train.shape}\")\n",
    "        logger.info(f\"shape of testing set is {test.shape}\")\n",
    "\n",
    "        \n",
    "        \n",
    "        \n",
    "\n"
   ]
  },
  {
   "cell_type": "code",
   "execution_count": 113,
   "metadata": {},
   "outputs": [
    {
     "name": "stdout",
     "output_type": "stream",
     "text": [
      "[2024-06-13 03:33:24,429: INFO: common: yaml file: config\\config.yaml loaded successfully]\n",
      "[2024-06-13 03:33:24,431: INFO: common: yaml file: params.yaml loaded successfully]\n",
      "[2024-06-13 03:33:24,434: INFO: common: yaml file: schema.yaml loaded successfully]\n",
      "[2024-06-13 03:33:24,436: INFO: common: created directory at: artifacts]\n",
      "[2024-06-13 03:33:24,436: INFO: common: created directory at: artifacts/data_transformation]\n",
      "[2024-06-13 03:33:25,538: INFO: 712377735: Converting Stay_date and cancel_date to numerical values]\n",
      "[2024-06-13 03:33:25,616: INFO: 712377735: Added data with only relevant features]\n",
      "[2024-06-13 03:33:25,660: INFO: 712377735: checked for any null values in target variable and neglected them.]\n",
      "[2024-06-13 03:33:30,152: INFO: 712377735: Sucessful train and test split on cut off date as 01-01-2024]\n",
      "[2024-06-13 03:33:30,152: INFO: 712377735: shape of training set is (164780, 71)]\n",
      "[2024-06-13 03:33:30,152: INFO: 712377735: shape of testing set is (4186, 71)]\n"
     ]
    }
   ],
   "source": [
    "try: \n",
    "    config = ConfigurationManager()\n",
    "    data_transformation_config = config.get_data_transformation_config()\n",
    "    data_transformation = DataTransformation(config=data_transformation_config)\n",
    "    data_transformation.initiate_transformation()\n",
    "\n",
    "except Exception as e:\n",
    "    logger.error(e)\n",
    "    raise e"
   ]
  },
  {
   "cell_type": "code",
   "execution_count": null,
   "metadata": {},
   "outputs": [],
   "source": []
  }
 ],
 "metadata": {
  "kernelspec": {
   "display_name": "hotel_pickup_forecasting",
   "language": "python",
   "name": "python3"
  },
  "language_info": {
   "codemirror_mode": {
    "name": "ipython",
    "version": 3
   },
   "file_extension": ".py",
   "mimetype": "text/x-python",
   "name": "python",
   "nbconvert_exporter": "python",
   "pygments_lexer": "ipython3",
   "version": "3.11.4"
  }
 },
 "nbformat": 4,
 "nbformat_minor": 2
}
